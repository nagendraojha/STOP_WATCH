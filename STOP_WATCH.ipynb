{
 "cells": [
  {
   "cell_type": "code",
   "execution_count": null,
   "id": "e4ac7131-af66-4edf-9103-c0b4f5dd83da",
   "metadata": {},
   "outputs": [],
   "source": []
  },
  {
   "cell_type": "code",
   "execution_count": null,
   "id": "4d59cef0-cdb3-4d4e-91c1-16aa6473f50d",
   "metadata": {},
   "outputs": [],
   "source": []
  },
  {
   "cell_type": "code",
   "execution_count": null,
   "id": "3cc28c04-e967-4a2d-9907-35f9ac4ce56b",
   "metadata": {},
   "outputs": [],
   "source": []
  },
  {
   "cell_type": "code",
   "execution_count": null,
   "id": "e275a638-7dad-4079-9029-f404b4afc053",
   "metadata": {},
   "outputs": [],
   "source": []
  },
  {
   "cell_type": "code",
   "execution_count": null,
   "id": "f531edeb-b997-42a7-bba6-ea61366e0789",
   "metadata": {},
   "outputs": [],
   "source": []
  },
  {
   "cell_type": "code",
   "execution_count": null,
   "id": "bf08119d-2a77-43b1-bf92-28d3d33508c0",
   "metadata": {},
   "outputs": [],
   "source": []
  },
  {
   "cell_type": "code",
   "execution_count": null,
   "id": "f9aa65f9-bd74-4c94-be0e-543c1984e4a4",
   "metadata": {},
   "outputs": [],
   "source": []
  },
  {
   "cell_type": "code",
   "execution_count": 9,
   "id": "baf33bd5-170c-4481-ad94-a422910cd98b",
   "metadata": {},
   "outputs": [
    {
     "name": "stderr",
     "output_type": "stream",
     "text": [
      "C:\\Users\\nagen\\AppData\\Local\\Temp\\ipykernel_28576\\700395803.py:15: DeprecationWarning: datetime.datetime.utcfromtimestamp() is deprecated and scheduled for removal in a future version. Use timezone-aware objects to represent datetimes in UTC: datetime.datetime.fromtimestamp(timestamp, datetime.UTC).\n",
      "  tt = datetime.utcfromtimestamp(counter)\n"
     ]
    }
   ],
   "source": [
    "import tkinter as Tkinter\n",
    "from datetime import datetime\n",
    "counter = 0\n",
    "running = False\n",
    "\n",
    "\n",
    "def counter_label(label):\n",
    "    def count():\n",
    "        if running:\n",
    "            global counter\n",
    "\t\t\t# To manage the intial delay. \n",
    "            if counter == 0:\n",
    "                display = 'Ready!'\n",
    "            else:\n",
    "                tt = datetime.utcfromtimestamp(counter)\n",
    "                string = tt.strftime('%H:%M:%S')\n",
    "                display = string\n",
    "\t\n",
    "            label['text'] = display\n",
    "\t\n",
    "\t\t\t# label.after(arg1, arg2) delays by \n",
    "\t\t\t# first argument given in milliseconds \n",
    "\t\t\t# and then calls the function given as second argument. \n",
    "\t\t\t# Generally like here we need to call the \n",
    "\t\t\t# function in which it is present repeatedly. \n",
    "\t\t\t# Delays by 1000ms=1 seconds and call count again. \n",
    "            label.after(1000, count)\n",
    "            counter += 1\n",
    "\t\n",
    "\t# Triggering the start of the counter. \n",
    "    count()\n",
    "\t\n",
    "\n",
    "# start function of the stopwatch \n",
    "def Start(label):\n",
    "    global running\n",
    "    running = True\n",
    "    counter_label(label)\n",
    "    start['state'] = 'disabled'\n",
    "    stop['state'] = 'normal'\n",
    "    reset['state'] = 'normal'\n",
    "\t\n",
    "\n",
    "# Stop function of the stopwatch \n",
    "def Stop():\n",
    "    global running\n",
    "    start['state'] = 'normal'\n",
    "    stop['state'] = 'disabled'\n",
    "    reset['state'] = 'normal'\n",
    "    running = False\n",
    "\t\n",
    "\n",
    "# Reset function of the stopwatch \n",
    "def Reset(label):\n",
    "\tglobal counter\n",
    "\tcounter = 0\n",
    "\t# If reset is pressed after pressing stop. \n",
    "\tif not running:\n",
    "\t\treset['state'] = 'disabled'\n",
    "\t\tlabel['text'] = '00:00:00'\n",
    "\t# If reset is pressed while the stopwatch is running. \n",
    "\telse:\n",
    "\t\tlabel['text'] = '00:00:00'\n",
    "\n",
    "\n",
    "root = Tkinter.Tk()\n",
    "root.title(\"Stopwatch\")\n",
    "\n",
    "# Fixing the window size.\n",
    "root.minsize(width=250, height=70)\n",
    "label = Tkinter.Label(root, text='Ready!', fg='black', font='Verdana 30 bold')\n",
    "label.pack()\n",
    "f = Tkinter.Frame(root)\n",
    "start = Tkinter.Button(f, text='Start', width=6, command=lambda: Start(label))\n",
    "stop = Tkinter.Button(f, text='Stop', width=6, state='disabled', command=Stop)\n",
    "reset = Tkinter.Button(f, text='Reset', width=6, state='disabled', command=lambda: Reset(label))\n",
    "f.pack(anchor='center', pady=5)\n",
    "start.pack(side='left')\n",
    "stop.pack(side='left')\n",
    "reset.pack(side='left')\n",
    "root.mainloop()\n"
   ]
  },
  {
   "cell_type": "code",
   "execution_count": null,
   "id": "b0cd33f9-595e-47b7-a4c3-bbe52303503b",
   "metadata": {},
   "outputs": [],
   "source": []
  }
 ],
 "metadata": {
  "kernelspec": {
   "display_name": "Python [conda env:base] *",
   "language": "python",
   "name": "conda-base-py"
  },
  "language_info": {
   "codemirror_mode": {
    "name": "ipython",
    "version": 3
   },
   "file_extension": ".py",
   "mimetype": "text/x-python",
   "name": "python",
   "nbconvert_exporter": "python",
   "pygments_lexer": "ipython3",
   "version": "3.12.7"
  }
 },
 "nbformat": 4,
 "nbformat_minor": 5
}
